{
 "cells": [
  {
   "cell_type": "code",
   "execution_count": 30,
   "metadata": {},
   "outputs": [],
   "source": [
    "import sklearn.linear_model as model\n",
    "import numpy as np\n",
    "import pandas as pd\n",
    "import pybaseball as pyb\n",
    "from sklearn.metrics import r2_score"
   ]
  },
  {
   "cell_type": "markdown",
   "metadata": {},
   "source": [
    "## Data Gathering"
   ]
  },
  {
   "cell_type": "code",
   "execution_count": 62,
   "metadata": {},
   "outputs": [],
   "source": [
    "# Download the stats from 2024 and 2023\n",
    "\n",
    "min_innings = 0 # change this if you want to lower the minimum number of innings (we only look at pitchers who pitched more than this number of IP in *both* seasons)\n",
    "\n",
    "stats_2024 = pyb.pitching_stats(start_season = 2024, end_season=2024, qual=min_innings)\n",
    "stats_2023 = pyb.pitching_stats(start_season = 2023, end_season=2023, qual=min_innings)"
   ]
  },
  {
   "cell_type": "code",
   "execution_count": 63,
   "metadata": {},
   "outputs": [],
   "source": [
    "# Here is the list of stats I am going to look at. IDfg is an id to make sure we are looking at the same play in 2023 as in 2024. Name is the player's name. Most stats are self-explanatory, but I threw in a couple that I thought would be funny (BABIP and WPA) but are unlikely to have any coorelation. If you want to see the full list of stats, you can look at stats_2023.columns\n",
    "f2023 = stats_2023.filter(items=[\"IDfg\", \"Name\", \"ERA\", \"ERA-\", \"FIP\", \"xERA\", \"xFIP\", \"SIERA\", \"CSW%\", \"K-BB%\", \"K%\", \"BB%\", \"WPA\", \"BABIP\", \"Zone%\", \"Contact%\", \"Swing%\", \"Soft%\", \"Hard%\", \"Stuff+\", \"Location+\", \"Pitching+\"])"
   ]
  },
  {
   "cell_type": "code",
   "execution_count": 64,
   "metadata": {},
   "outputs": [],
   "source": [
    "# Just looking at ERA and ERA- in 2024. These should both be relativly the same but just wanted to try them both. I am renaming them so I can combine this with the 2023 stats\n",
    "f2024 = stats_2024.filter(items=[\"IDfg\", \"ERA\", \"ERA-\"]).rename(columns={\"ERA\": \"2024ERA\", \"ERA-\": \"2024ERA-\"})"
   ]
  },
  {
   "cell_type": "code",
   "execution_count": 65,
   "metadata": {},
   "outputs": [
    {
     "data": {
      "text/html": [
       "<div>\n",
       "<style scoped>\n",
       "    .dataframe tbody tr th:only-of-type {\n",
       "        vertical-align: middle;\n",
       "    }\n",
       "\n",
       "    .dataframe tbody tr th {\n",
       "        vertical-align: top;\n",
       "    }\n",
       "\n",
       "    .dataframe thead th {\n",
       "        text-align: right;\n",
       "    }\n",
       "</style>\n",
       "<table border=\"1\" class=\"dataframe\">\n",
       "  <thead>\n",
       "    <tr style=\"text-align: right;\">\n",
       "      <th></th>\n",
       "      <th>IDfg</th>\n",
       "      <th>Name</th>\n",
       "      <th>ERA</th>\n",
       "      <th>ERA-</th>\n",
       "      <th>FIP</th>\n",
       "      <th>xERA</th>\n",
       "      <th>xFIP</th>\n",
       "      <th>SIERA</th>\n",
       "      <th>CSW%</th>\n",
       "      <th>K-BB%</th>\n",
       "      <th>K%</th>\n",
       "      <th>BB%</th>\n",
       "      <th>WPA</th>\n",
       "      <th>BABIP</th>\n",
       "      <th>Zone%</th>\n",
       "      <th>Contact%</th>\n",
       "      <th>Swing%</th>\n",
       "      <th>Soft%</th>\n",
       "      <th>Hard%</th>\n",
       "      <th>Stuff+</th>\n",
       "      <th>Location+</th>\n",
       "      <th>Pitching+</th>\n",
       "      <th>2024ERA</th>\n",
       "      <th>2024ERA-</th>\n",
       "    </tr>\n",
       "  </thead>\n",
       "  <tbody>\n",
       "    <tr>\n",
       "      <th>0</th>\n",
       "      <td>10310</td>\n",
       "      <td>Zack Wheeler</td>\n",
       "      <td>3.61</td>\n",
       "      <td>82</td>\n",
       "      <td>3.15</td>\n",
       "      <td>3.18</td>\n",
       "      <td>3.54</td>\n",
       "      <td>3.53</td>\n",
       "      <td>0.275</td>\n",
       "      <td>0.220</td>\n",
       "      <td>0.269</td>\n",
       "      <td>0.050</td>\n",
       "      <td>1.94</td>\n",
       "      <td>0.292</td>\n",
       "      <td>0.421</td>\n",
       "      <td>0.740</td>\n",
       "      <td>0.511</td>\n",
       "      <td>0.214</td>\n",
       "      <td>0.313</td>\n",
       "      <td>114</td>\n",
       "      <td>107</td>\n",
       "      <td>122</td>\n",
       "      <td>2.57</td>\n",
       "      <td>62</td>\n",
       "    </tr>\n",
       "    <tr>\n",
       "      <th>1</th>\n",
       "      <td>27498</td>\n",
       "      <td>Spencer Strider</td>\n",
       "      <td>3.86</td>\n",
       "      <td>87</td>\n",
       "      <td>2.85</td>\n",
       "      <td>3.09</td>\n",
       "      <td>2.92</td>\n",
       "      <td>2.86</td>\n",
       "      <td>0.338</td>\n",
       "      <td>0.292</td>\n",
       "      <td>0.368</td>\n",
       "      <td>0.076</td>\n",
       "      <td>1.78</td>\n",
       "      <td>0.316</td>\n",
       "      <td>0.438</td>\n",
       "      <td>0.643</td>\n",
       "      <td>0.530</td>\n",
       "      <td>0.142</td>\n",
       "      <td>0.354</td>\n",
       "      <td>113</td>\n",
       "      <td>103</td>\n",
       "      <td>115</td>\n",
       "      <td>7.00</td>\n",
       "      <td>168</td>\n",
       "    </tr>\n",
       "    <tr>\n",
       "      <th>2</th>\n",
       "      <td>13125</td>\n",
       "      <td>Gerrit Cole</td>\n",
       "      <td>2.63</td>\n",
       "      <td>61</td>\n",
       "      <td>3.16</td>\n",
       "      <td>3.48</td>\n",
       "      <td>3.60</td>\n",
       "      <td>3.63</td>\n",
       "      <td>0.277</td>\n",
       "      <td>0.212</td>\n",
       "      <td>0.270</td>\n",
       "      <td>0.058</td>\n",
       "      <td>4.39</td>\n",
       "      <td>0.261</td>\n",
       "      <td>0.425</td>\n",
       "      <td>0.765</td>\n",
       "      <td>0.499</td>\n",
       "      <td>0.151</td>\n",
       "      <td>0.311</td>\n",
       "      <td>109</td>\n",
       "      <td>106</td>\n",
       "      <td>114</td>\n",
       "      <td>3.41</td>\n",
       "      <td>85</td>\n",
       "    </tr>\n",
       "    <tr>\n",
       "      <th>3</th>\n",
       "      <td>12768</td>\n",
       "      <td>Sonny Gray</td>\n",
       "      <td>2.79</td>\n",
       "      <td>65</td>\n",
       "      <td>2.83</td>\n",
       "      <td>3.66</td>\n",
       "      <td>3.64</td>\n",
       "      <td>3.95</td>\n",
       "      <td>0.279</td>\n",
       "      <td>0.170</td>\n",
       "      <td>0.243</td>\n",
       "      <td>0.073</td>\n",
       "      <td>3.01</td>\n",
       "      <td>0.295</td>\n",
       "      <td>0.422</td>\n",
       "      <td>0.759</td>\n",
       "      <td>0.474</td>\n",
       "      <td>0.143</td>\n",
       "      <td>0.300</td>\n",
       "      <td>96</td>\n",
       "      <td>101</td>\n",
       "      <td>100</td>\n",
       "      <td>3.84</td>\n",
       "      <td>95</td>\n",
       "    </tr>\n",
       "    <tr>\n",
       "      <th>4</th>\n",
       "      <td>19291</td>\n",
       "      <td>Zac Gallen</td>\n",
       "      <td>3.47</td>\n",
       "      <td>78</td>\n",
       "      <td>3.26</td>\n",
       "      <td>4.16</td>\n",
       "      <td>3.49</td>\n",
       "      <td>3.67</td>\n",
       "      <td>0.285</td>\n",
       "      <td>0.204</td>\n",
       "      <td>0.260</td>\n",
       "      <td>0.056</td>\n",
       "      <td>2.87</td>\n",
       "      <td>0.301</td>\n",
       "      <td>0.419</td>\n",
       "      <td>0.761</td>\n",
       "      <td>0.470</td>\n",
       "      <td>0.098</td>\n",
       "      <td>0.401</td>\n",
       "      <td>97</td>\n",
       "      <td>107</td>\n",
       "      <td>105</td>\n",
       "      <td>3.65</td>\n",
       "      <td>87</td>\n",
       "    </tr>\n",
       "    <tr>\n",
       "      <th>...</th>\n",
       "      <td>...</td>\n",
       "      <td>...</td>\n",
       "      <td>...</td>\n",
       "      <td>...</td>\n",
       "      <td>...</td>\n",
       "      <td>...</td>\n",
       "      <td>...</td>\n",
       "      <td>...</td>\n",
       "      <td>...</td>\n",
       "      <td>...</td>\n",
       "      <td>...</td>\n",
       "      <td>...</td>\n",
       "      <td>...</td>\n",
       "      <td>...</td>\n",
       "      <td>...</td>\n",
       "      <td>...</td>\n",
       "      <td>...</td>\n",
       "      <td>...</td>\n",
       "      <td>...</td>\n",
       "      <td>...</td>\n",
       "      <td>...</td>\n",
       "      <td>...</td>\n",
       "      <td>...</td>\n",
       "      <td>...</td>\n",
       "    </tr>\n",
       "    <tr>\n",
       "      <th>606</th>\n",
       "      <td>6893</td>\n",
       "      <td>Johnny Cueto</td>\n",
       "      <td>6.02</td>\n",
       "      <td>135</td>\n",
       "      <td>7.02</td>\n",
       "      <td>5.13</td>\n",
       "      <td>5.20</td>\n",
       "      <td>4.93</td>\n",
       "      <td>0.224</td>\n",
       "      <td>0.110</td>\n",
       "      <td>0.179</td>\n",
       "      <td>0.069</td>\n",
       "      <td>-0.91</td>\n",
       "      <td>0.236</td>\n",
       "      <td>0.408</td>\n",
       "      <td>0.831</td>\n",
       "      <td>0.523</td>\n",
       "      <td>0.161</td>\n",
       "      <td>0.323</td>\n",
       "      <td>93</td>\n",
       "      <td>110</td>\n",
       "      <td>103</td>\n",
       "      <td>7.15</td>\n",
       "      <td>174</td>\n",
       "    </tr>\n",
       "    <tr>\n",
       "      <th>607</th>\n",
       "      <td>20167</td>\n",
       "      <td>Kyle Muller</td>\n",
       "      <td>7.60</td>\n",
       "      <td>184</td>\n",
       "      <td>6.14</td>\n",
       "      <td>7.40</td>\n",
       "      <td>5.50</td>\n",
       "      <td>5.47</td>\n",
       "      <td>0.224</td>\n",
       "      <td>0.046</td>\n",
       "      <td>0.151</td>\n",
       "      <td>0.105</td>\n",
       "      <td>-2.54</td>\n",
       "      <td>0.372</td>\n",
       "      <td>0.453</td>\n",
       "      <td>0.811</td>\n",
       "      <td>0.482</td>\n",
       "      <td>0.113</td>\n",
       "      <td>0.391</td>\n",
       "      <td>93</td>\n",
       "      <td>97</td>\n",
       "      <td>91</td>\n",
       "      <td>4.01</td>\n",
       "      <td>104</td>\n",
       "    </tr>\n",
       "    <tr>\n",
       "      <th>608</th>\n",
       "      <td>13763</td>\n",
       "      <td>Dominic Leone</td>\n",
       "      <td>4.67</td>\n",
       "      <td>111</td>\n",
       "      <td>6.29</td>\n",
       "      <td>5.30</td>\n",
       "      <td>4.94</td>\n",
       "      <td>4.49</td>\n",
       "      <td>0.277</td>\n",
       "      <td>0.111</td>\n",
       "      <td>0.230</td>\n",
       "      <td>0.119</td>\n",
       "      <td>-0.27</td>\n",
       "      <td>0.255</td>\n",
       "      <td>0.365</td>\n",
       "      <td>0.684</td>\n",
       "      <td>0.507</td>\n",
       "      <td>0.086</td>\n",
       "      <td>0.391</td>\n",
       "      <td>100</td>\n",
       "      <td>97</td>\n",
       "      <td>98</td>\n",
       "      <td>6.63</td>\n",
       "      <td>164</td>\n",
       "    </tr>\n",
       "    <tr>\n",
       "      <th>609</th>\n",
       "      <td>14527</td>\n",
       "      <td>Jorge Lopez</td>\n",
       "      <td>5.95</td>\n",
       "      <td>138</td>\n",
       "      <td>5.76</td>\n",
       "      <td>5.41</td>\n",
       "      <td>4.69</td>\n",
       "      <td>4.35</td>\n",
       "      <td>0.277</td>\n",
       "      <td>0.102</td>\n",
       "      <td>0.184</td>\n",
       "      <td>0.083</td>\n",
       "      <td>-0.77</td>\n",
       "      <td>0.314</td>\n",
       "      <td>0.449</td>\n",
       "      <td>0.792</td>\n",
       "      <td>0.472</td>\n",
       "      <td>0.139</td>\n",
       "      <td>0.364</td>\n",
       "      <td>108</td>\n",
       "      <td>100</td>\n",
       "      <td>107</td>\n",
       "      <td>2.89</td>\n",
       "      <td>73</td>\n",
       "    </tr>\n",
       "    <tr>\n",
       "      <th>610</th>\n",
       "      <td>17282</td>\n",
       "      <td>Michael Kopech</td>\n",
       "      <td>5.43</td>\n",
       "      <td>126</td>\n",
       "      <td>6.46</td>\n",
       "      <td>5.77</td>\n",
       "      <td>5.68</td>\n",
       "      <td>5.41</td>\n",
       "      <td>0.264</td>\n",
       "      <td>0.073</td>\n",
       "      <td>0.227</td>\n",
       "      <td>0.154</td>\n",
       "      <td>-0.89</td>\n",
       "      <td>0.264</td>\n",
       "      <td>0.384</td>\n",
       "      <td>0.755</td>\n",
       "      <td>0.421</td>\n",
       "      <td>0.155</td>\n",
       "      <td>0.347</td>\n",
       "      <td>99</td>\n",
       "      <td>85</td>\n",
       "      <td>84</td>\n",
       "      <td>3.46</td>\n",
       "      <td>85</td>\n",
       "    </tr>\n",
       "  </tbody>\n",
       "</table>\n",
       "<p>611 rows × 24 columns</p>\n",
       "</div>"
      ],
      "text/plain": [
       "      IDfg             Name   ERA  ...  Pitching+  2024ERA  2024ERA-\n",
       "0    10310     Zack Wheeler  3.61  ...        122     2.57        62\n",
       "1    27498  Spencer Strider  3.86  ...        115     7.00       168\n",
       "2    13125      Gerrit Cole  2.63  ...        114     3.41        85\n",
       "3    12768       Sonny Gray  2.79  ...        100     3.84        95\n",
       "4    19291       Zac Gallen  3.47  ...        105     3.65        87\n",
       "..     ...              ...   ...  ...        ...      ...       ...\n",
       "606   6893     Johnny Cueto  6.02  ...        103     7.15       174\n",
       "607  20167      Kyle Muller  7.60  ...         91     4.01       104\n",
       "608  13763    Dominic Leone  4.67  ...         98     6.63       164\n",
       "609  14527      Jorge Lopez  5.95  ...        107     2.89        73\n",
       "610  17282   Michael Kopech  5.43  ...         84     3.46        85\n",
       "\n",
       "[611 rows x 24 columns]"
      ]
     },
     "execution_count": 65,
     "metadata": {},
     "output_type": "execute_result"
    }
   ],
   "source": [
    "# This combines both of the tables into one big one. Note only pitchers who pitched min_innings in both seasons will be on this\n",
    "\n",
    "all_pitching = pd.merge(f2023, f2024, \"inner\", \"IDfg\")\n",
    "all_pitching"
   ]
  },
  {
   "cell_type": "markdown",
   "metadata": {},
   "source": [
    "## Statistics time"
   ]
  },
  {
   "cell_type": "code",
   "execution_count": 66,
   "metadata": {},
   "outputs": [],
   "source": [
    "# First, lets see how last year's ERA predicts next years ERA\n",
    "era2era = model.LinearRegression().fit(X=np.array(all_pitching[\"ERA\"]).reshape(-1,1), y=np.array(all_pitching[\"2024ERA\"]).reshape(-1,1))"
   ]
  },
  {
   "cell_type": "code",
   "execution_count": 67,
   "metadata": {},
   "outputs": [],
   "source": [
    "era_pred = era2era.predict(np.array(all_pitching[\"ERA\"]).reshape(-1,1))"
   ]
  },
  {
   "cell_type": "code",
   "execution_count": 68,
   "metadata": {},
   "outputs": [
    {
     "data": {
      "text/plain": [
       "0.02100884536335612"
      ]
     },
     "execution_count": 68,
     "metadata": {},
     "output_type": "execute_result"
    }
   ],
   "source": [
    "r2_score(np.array(all_pitching[\"2024ERA\"]).reshape(-1,1), era_pred)"
   ]
  },
  {
   "cell_type": "markdown",
   "metadata": {},
   "source": [
    "Wow thats a small number! Lets see how every other stat does"
   ]
  },
  {
   "cell_type": "code",
   "execution_count": 69,
   "metadata": {},
   "outputs": [
    {
     "name": "stdout",
     "output_type": "stream",
     "text": [
      "ERA has a r2 value of 0.02100884536335612\n",
      "ERA- has a r2 value of 0.017492347058716384\n",
      "FIP has a r2 value of 0.04272143364139169\n",
      "xERA has a r2 value of 0.04062252803415434\n",
      "xFIP has a r2 value of 0.03008001548307493\n",
      "SIERA has a r2 value of 0.026818565586842036\n",
      "CSW% has a r2 value of 0.024016800862309173\n",
      "K-BB% has a r2 value of 0.03196087810616566\n",
      "K% has a r2 value of 0.04091179418095048\n",
      "BB% has a r2 value of 0.00036385916309178423\n",
      "WPA has a r2 value of 0.0019764374004610508\n",
      "BABIP has a r2 value of 0.0033954380388329097\n",
      "Zone% has a r2 value of 0.002886407650614431\n",
      "Contact% has a r2 value of 0.025411814335613125\n",
      "Swing% has a r2 value of 9.728139925835322e-06\n",
      "Soft% has a r2 value of 0.000773704084157778\n",
      "Hard% has a r2 value of 0.01226904140248064\n",
      "Stuff+ has a r2 value of 0.034521617191316745\n",
      "Location+ has a r2 value of 0.015230943836014532\n",
      "Pitching+ has a r2 value of 0.04660504194453208\n"
     ]
    }
   ],
   "source": [
    "y = np.array(all_pitching[\"2024ERA\"]).reshape(-1,1)\n",
    "stats = [\"ERA\", \"ERA-\", \"FIP\", \"xERA\", \"xFIP\", \"SIERA\", \"CSW%\", \"K-BB%\", \"K%\", \"BB%\", \"WPA\", \"BABIP\", \"Zone%\", \"Contact%\", \"Swing%\", \"Soft%\", \"Hard%\", \"Stuff+\", \"Location+\", \"Pitching+\"]\n",
    "r2s = {}\n",
    "\n",
    "for stat in stats:\n",
    "    X = np.array(all_pitching[stat]).reshape(-1,1)\n",
    "    reg = model.LinearRegression().fit(X, y)\n",
    "\n",
    "    y_pred = reg.predict(X)\n",
    "    r2 = r2_score(y, y_pred)\n",
    "\n",
    "    print(f\"{stat} has a r2 value of {r2}\")\n",
    "    r2s[stat] = r2\n"
   ]
  },
  {
   "cell_type": "markdown",
   "metadata": {},
   "source": [
    "So the individual stats that won are SIERA and Stuff+\n",
    "\n",
    "Knowers of ball are probably not that surprised\n",
    "\n",
    "Now lets see if using multiple of these stats can lead us to a formula with a higher r2"
   ]
  },
  {
   "cell_type": "code",
   "execution_count": 51,
   "metadata": {},
   "outputs": [
    {
     "data": {
      "text/plain": [
       "(array([[ 8.81062162e-01, -2.58419507e+00,  5.43002887e+00,\n",
       "         -8.82854695e+00, -7.73513794e-01, -1.39407815e-01,\n",
       "         -4.94452893e-02, -7.31716831e-03]]),\n",
       " array([6.72336924]))"
      ]
     },
     "execution_count": 51,
     "metadata": {},
     "output_type": "execute_result"
    }
   ],
   "source": [
    "stats = [\"SIERA\", \"CSW%\", \"K%\", \"BB%\", \"Contact%\", \"Swing%\", \"Stuff+\", \"Location+\"]\n",
    "\n",
    "X = all_pitching.filter(items=stats).values\n",
    "y = np.array(all_pitching[\"2024ERA\"]).reshape(-1,1)\n",
    "\n",
    "reg = model.LinearRegression().fit(X, y)\n",
    "reg.coef_, reg.intercept_"
   ]
  },
  {
   "cell_type": "code",
   "execution_count": 52,
   "metadata": {},
   "outputs": [
    {
     "data": {
      "text/plain": [
       "0.292406267013817"
      ]
     },
     "execution_count": 52,
     "metadata": {},
     "output_type": "execute_result"
    }
   ],
   "source": [
    "y_pred = reg.predict(X)\n",
    "r2_score(y, y_pred)"
   ]
  },
  {
   "cell_type": "code",
   "execution_count": 53,
   "metadata": {},
   "outputs": [
    {
     "name": "stdout",
     "output_type": "stream",
     "text": [
      "the coefficient of SIERA is 0.8810621619470753\n",
      "the coefficient of CSW% is -2.5841950701528624\n",
      "the coefficient of K% is 5.430028870655146\n",
      "the coefficient of BB% is -8.828546945276168\n",
      "the coefficient of Contact% is -0.7735137941706123\n",
      "the coefficient of Swing% is -0.13940781547272943\n",
      "the coefficient of Stuff+ is -0.04944528931724987\n",
      "the coefficient of Location+ is -0.007317168311920412\n"
     ]
    }
   ],
   "source": [
    "for i, stat in enumerate(stats):\n",
    "    print(f\"the coefficient of {stat} is {reg.coef_[0][i]}\")"
   ]
  },
  {
   "cell_type": "code",
   "execution_count": 71,
   "metadata": {},
   "outputs": [
    {
     "data": {
      "text/plain": [
       "0"
      ]
     },
     "execution_count": 71,
     "metadata": {},
     "output_type": "execute_result"
    }
   ],
   "source": [
    "all_pitching.loc[all_pitching.Name == \"David Bote\"].size"
   ]
  },
  {
   "cell_type": "code",
   "execution_count": null,
   "metadata": {},
   "outputs": [],
   "source": []
  }
 ],
 "metadata": {
  "kernelspec": {
   "display_name": "venv",
   "language": "python",
   "name": "python3"
  },
  "language_info": {
   "codemirror_mode": {
    "name": "ipython",
    "version": 3
   },
   "file_extension": ".py",
   "mimetype": "text/x-python",
   "name": "python",
   "nbconvert_exporter": "python",
   "pygments_lexer": "ipython3",
   "version": "3.11.6"
  }
 },
 "nbformat": 4,
 "nbformat_minor": 2
}
