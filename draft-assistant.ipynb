{
 "cells": [
  {
   "cell_type": "code",
   "execution_count": 3,
   "metadata": {},
   "outputs": [],
   "source": [
    "import pybaseball as pyb\n",
    "import pandas as pd\n",
    "import numpy as np"
   ]
  },
  {
   "cell_type": "code",
   "execution_count": 4,
   "metadata": {},
   "outputs": [],
   "source": [
    "rb_hit = pd.read_csv(\"datasources/razzball-hit.csv\") #hitter projections from razzball (based on steamers)\n",
    "rb_pitch = pd.read_csv(\"datasources/razzball-pitch.csv\") #pitcher projections from razzball (based on steamers)\n",
    "adp = pd.read_csv(\"datasources/adp.csv\") #average draft position from fantasy pros\n",
    "\n",
    "pitch_2024 = pyb.pitching_stats(2024, qual=30) #2024 pitching stats (min 30 IP)\n",
    "hit_2024 = pyb.batting_stats(2024, qual=150) #2024 batting stats (min 150PA)"
   ]
  },
  {
   "cell_type": "code",
   "execution_count": 5,
   "metadata": {},
   "outputs": [],
   "source": [
    "hitting_stats = [\"R\", \"HR\", \"RBI\", \"SO\", \"BB\", \"SB\", \"AVG\", \"SLG\"]\n",
    "pitching_stats = [\"W\", \"ERA\", \"WHIP\", \"K\", \"QS\", \"SV+H\"]"
   ]
  },
  {
   "cell_type": "code",
   "execution_count": 21,
   "metadata": {},
   "outputs": [],
   "source": [
    "adp_hit = adp.loc[adp.Positions != \"SP\"].loc[adp.Positions != \"RP\"].loc[adp.Positions != \"SP,RP\"].rename(columns={\"Player\": \"Name\", \"Yahoo\": \"ADP\"}).filter(items=[\"Name\", \"ADP\"])"
   ]
  },
  {
   "cell_type": "code",
   "execution_count": 26,
   "metadata": {},
   "outputs": [],
   "source": [
    "p_hit_adp = pd.merge(adp_hit, rb_hit, \"left\", \"Name\").rename(columns={\"YAHOO\": \"Position\"}).filter(items=[\"Name\", \"Team\", \"Position\", \"ADP\", \"PA\", \"R\", \"HR\", \"RBI\", \"SB\", \"SO\", \"BB\", \"AVG\", \"SLG\", \"OPS\"]).sort_values(\"ADP\")"
   ]
  },
  {
   "cell_type": "code",
   "execution_count": 31,
   "metadata": {},
   "outputs": [
    {
     "data": {
      "text/plain": [
       "{'R': np.float64(62.789351851851855),\n",
       " 'HR': np.float64(17.123148148148147),\n",
       " 'RBI': np.float64(60.3787037037037),\n",
       " 'SO': np.float64(110.1375),\n",
       " 'BB': np.float64(45.44537037037036),\n",
       " 'SB': np.float64(10.786574074074075),\n",
       " 'AVG': np.float64(0.25274537037037037),\n",
       " 'SLG': np.float64(0.42275),\n",
       " 'OPS': np.float64(0.7473101851851851)}"
      ]
     },
     "execution_count": 31,
     "metadata": {},
     "output_type": "execute_result"
    }
   ],
   "source": [
    "avg_stats = {}\n",
    "for stat in hitting_stats:\n",
    "    avg_stats[stat] = p_hit_adp[stat].mean()\n",
    "\n",
    "avg_stats[\"OPS\"] = p_hit_adp.OPS.mean()\n",
    "avg_stats"
   ]
  },
  {
   "cell_type": "code",
   "execution_count": null,
   "metadata": {},
   "outputs": [],
   "source": []
  }
 ],
 "metadata": {
  "kernelspec": {
   "display_name": "venv",
   "language": "python",
   "name": "python3"
  },
  "language_info": {
   "codemirror_mode": {
    "name": "ipython",
    "version": 3
   },
   "file_extension": ".py",
   "mimetype": "text/x-python",
   "name": "python",
   "nbconvert_exporter": "python",
   "pygments_lexer": "ipython3",
   "version": "3.11.6"
  }
 },
 "nbformat": 4,
 "nbformat_minor": 2
}
